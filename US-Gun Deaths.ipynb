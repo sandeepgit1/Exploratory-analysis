{
 "cells": [
  {
   "cell_type": "markdown",
   "metadata": {
    "deletable": true,
    "editable": true
   },
   "source": [
    "# US Gun Deaths Project"
   ]
  },
  {
   "cell_type": "code",
   "execution_count": null,
   "metadata": {
    "collapsed": true,
    "deletable": true,
    "editable": true
   },
   "outputs": [],
   "source": [
    "import csv"
   ]
  },
  {
   "cell_type": "markdown",
   "metadata": {
    "deletable": true,
    "editable": true
   },
   "source": [
    "## Reading the data and  converting the data to list "
   ]
  },
  {
   "cell_type": "code",
   "execution_count": 11,
   "metadata": {
    "collapsed": false,
    "deletable": true,
    "editable": true
   },
   "outputs": [],
   "source": [
    "data=open('C:/Users/dasarr/Downloads/DDDD/DDDD/data-master/data-master/full_data.csv','r')\n",
    "csvread=csv.reader(data)\n",
    "guns=list(csvread)\n",
    "guns_header=guns[0:1]\n",
    "gun_deaths=guns[1:len(guns)]\n",
    "gun_deaths[1:5]\n"
   ]
  },
  {
   "cell_type": "markdown",
   "metadata": {
    "deletable": true,
    "editable": true
   },
   "source": [
    "## Counting Gun Deaths By Year"
   ]
  },
  {
   "cell_type": "code",
   "execution_count": 3,
   "metadata": {
    "collapsed": false,
    "deletable": true,
    "editable": true
   },
   "outputs": [
    {
     "data": {
      "text/plain": [
       "{'2012': 33563, '2013': 33636, '2014': 33599}"
      ]
     },
     "execution_count": 3,
     "metadata": {},
     "output_type": "execute_result"
    }
   ],
   "source": [
    "years=[year[1] for year in gun_deaths]\n",
    "year_counts={}\n",
    "for year in years:\n",
    "    if year in year_counts:\n",
    "        year_counts[year]=year_counts[year]+1\n",
    "    else:\n",
    "        year_counts[year]=1\n",
    "year_counts"
   ]
  },
  {
   "cell_type": "markdown",
   "metadata": {
    "deletable": true,
    "editable": true
   },
   "source": [
    "## Exploring Gun Deaths By Month And Year"
   ]
  },
  {
   "cell_type": "code",
   "execution_count": 4,
   "metadata": {
    "collapsed": false,
    "deletable": true,
    "editable": true
   },
   "outputs": [
    {
     "data": {
      "text/plain": [
       "[datetime.datetime(2012, 1, 1, 0, 0),\n",
       " datetime.datetime(2012, 1, 1, 0, 0),\n",
       " datetime.datetime(2012, 2, 1, 0, 0),\n",
       " datetime.datetime(2012, 2, 1, 0, 0)]"
      ]
     },
     "execution_count": 4,
     "metadata": {},
     "output_type": "execute_result"
    }
   ],
   "source": [
    "import datetime\n",
    "dates=[datetime.datetime(year=int(row[1]),month=int(row[2]),day=1) for row in gun_deaths]\n",
    "dates[1:5]"
   ]
  },
  {
   "cell_type": "code",
   "execution_count": 12,
   "metadata": {
    "collapsed": false,
    "deletable": true,
    "editable": true
   },
   "outputs": [],
   "source": [
    "date_counts={}\n",
    "for date in dates:\n",
    "    if date in date_counts:\n",
    "        date_counts[date]=date_counts[date]+1\n",
    "    else:\n",
    "        date_counts[date]=1\n",
    "date_counts"
   ]
  },
  {
   "cell_type": "markdown",
   "metadata": {
    "deletable": true,
    "editable": true
   },
   "source": [
    "## Exploring Gun Deaths By Race And Sex"
   ]
  },
  {
   "cell_type": "code",
   "execution_count": 6,
   "metadata": {
    "collapsed": false,
    "deletable": true,
    "editable": true
   },
   "outputs": [
    {
     "data": {
      "text/plain": [
       "{'Asian/Pacific Islander': 1326,\n",
       " 'Black': 23296,\n",
       " 'Hispanic': 9022,\n",
       " 'Native American/Native Alaskan': 917,\n",
       " 'White': 66237}"
      ]
     },
     "execution_count": 6,
     "metadata": {},
     "output_type": "execute_result"
    }
   ],
   "source": [
    "sex=[sex[5] for sex in gun_deaths]\n",
    "race=[race[7] for race in gun_deaths]\n",
    "sex_counts={}\n",
    "race_counts={}\n",
    "for sexes in sex:\n",
    "    if sexes in sex_counts:\n",
    "        sex_counts[sexes]=sex_counts[sexes]+1\n",
    "    else:\n",
    "        sex_counts[sexes]=1\n",
    "for races in race:\n",
    "    if races in race_counts:\n",
    "        race_counts[races]=race_counts[races]+1\n",
    "    else:\n",
    "        race_counts[races]=1\n",
    "\n",
    "race_counts"
   ]
  },
  {
   "cell_type": "markdown",
   "metadata": {
    "canopy_exercise": {
     "cell_type": "<None>"
    },
    "deletable": true,
    "editable": true
   },
   "source": [
    "## Filtering By Intent"
   ]
  },
  {
   "cell_type": "raw",
   "metadata": {
    "collapsed": false,
    "deletable": true,
    "editable": true
   },
   "source": [
    "intents = [row[3] for row in gun_deaths]\n",
    "homicide_race_counts = {}\n",
    "for i,races in enumerate(race):\n",
    "    if races not in homicide_race_counts:\n",
    "        homicide_race_counts[races] = 0\n",
    "    if intents[i] == \"Homicide\":\n",
    "        homicide_race_counts[races] += 1\n",
    "homicide_race_counts "
   ]
  },
  {
   "cell_type": "raw",
   "metadata": {
    "deletable": true,
    "editable": true
   },
   "source": [
    "However, this analysis only gives us the total number of gun deaths by race in the US.\n",
    "Unless we know the proportion of each race in the US, we won't be able to meaningfully compare those numbers.\n",
    "What we really want to get is a rate of gun deaths per 100000 people of each race.we will get \n",
    "the data of US census from census dataset.Here is the fallowing distribution.\n",
    "\n",
    "    \"Asian/Pacific Islander\": 15159516 + 674625,\n",
    "    \"Native American/Native Alaskan\": 3739506,\n",
    "    \"Black\": 40250635,\n",
    "    \"Hispanic\": 44618105,\n",
    "    \"White\": 197318956"
   ]
  },
  {
   "cell_type": "code",
   "execution_count": 10,
   "metadata": {
    "collapsed": false,
    "deletable": true,
    "editable": true
   },
   "outputs": [
    {
     "data": {
      "text/plain": [
       "{'Asian/Pacific Islander': 3.530346230970155,\n",
       " 'Black': 48.471284987180944,\n",
       " 'Hispanic': 12.627161104219914,\n",
       " 'Native American/Native Alaskan': 8.717729026240365,\n",
       " 'White': 4.6356417981453335}"
      ]
     },
     "execution_count": 10,
     "metadata": {},
     "output_type": "execute_result"
    }
   ],
   "source": [
    "mapping = {\n",
    "    \"Asian/Pacific Islander\": 15159516 + 674625,\n",
    "    \"Native American/Native Alaskan\": 3739506,\n",
    "    \"Black\": 40250635,\n",
    "    \"Hispanic\": 44618105,\n",
    "    \"White\": 197318956\n",
    "}\n",
    "\n",
    "homicide_race_rate={}\n",
    "for k,v in homicide_race_counts.items():\n",
    "    homicide_race_rate[k]=(v/mapping[k])*100000\n",
    "homicide_race_rate"
   ]
  },
  {
   "cell_type": "markdown",
   "metadata": {
    "deletable": true,
    "editable": true
   },
   "source": [
    "##  Findings\n",
    "\n",
    "It appears that gun related homicides in the US disproportionately affect people in the Black and Hispanic racial categories."
   ]
  },
  {
   "cell_type": "code",
   "execution_count": null,
   "metadata": {
    "collapsed": true,
    "deletable": true,
    "editable": true
   },
   "outputs": [],
   "source": []
  },
  {
   "cell_type": "code",
   "execution_count": null,
   "metadata": {
    "collapsed": true,
    "deletable": true,
    "editable": true
   },
   "outputs": [],
   "source": []
  }
 ],
 "metadata": {
  "kernelspec": {
   "display_name": "Python 3",
   "language": "python",
   "name": "python3"
  },
  "language_info": {
   "codemirror_mode": {
    "name": "ipython",
    "version": 3
   },
   "file_extension": ".py",
   "mimetype": "text/x-python",
   "name": "python",
   "nbconvert_exporter": "python",
   "pygments_lexer": "ipython3",
   "version": "3.5.2"
  }
 },
 "nbformat": 4,
 "nbformat_minor": 2
}
